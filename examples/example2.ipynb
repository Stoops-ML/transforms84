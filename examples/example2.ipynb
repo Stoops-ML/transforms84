{
 "cells": [
  {
   "cell_type": "code",
   "execution_count": 1,
   "metadata": {},
   "outputs": [],
   "source": [
    "import numpy as np\n",
    "import shapely\n",
    "from czml3 import CZML_VERSION, Document, Packet\n",
    "from czml3.properties import Color, Material, Polygon, PositionList, SolidColorMaterial\n",
    "\n",
    "from transforms84.helpers import DDM2RRM\n",
    "from transforms84.systems import WGS84\n",
    "from transforms84.transforms import (\n",
    "    AER2ENU,\n",
    "    ENU2ECEF,\n",
    "    ECEF2geodetic,\n",
    ")"
   ]
  },
  {
   "cell_type": "markdown",
   "metadata": {},
   "source": [
    "## Make a square"
   ]
  },
  {
   "cell_type": "code",
   "execution_count": 2,
   "metadata": {},
   "outputs": [],
   "source": [
    "m_dist = 5000.0"
   ]
  },
  {
   "cell_type": "code",
   "execution_count": 3,
   "metadata": {},
   "outputs": [],
   "source": [
    "rrm_top_left = DDM2RRM(np.array([[34], [33], [0]], dtype=np.float64))"
   ]
  },
  {
   "cell_type": "code",
   "execution_count": 4,
   "metadata": {},
   "outputs": [],
   "source": [
    "rrm_top_right = ECEF2geodetic(\n",
    "    ENU2ECEF(\n",
    "        rrm_top_left,\n",
    "        AER2ENU(DDM2RRM(np.array([[90], [0], [m_dist]], dtype=np.float64))),\n",
    "        WGS84.a,\n",
    "        WGS84.b,\n",
    "    ),\n",
    "    WGS84.a,\n",
    "    WGS84.b,\n",
    ")"
   ]
  },
  {
   "cell_type": "code",
   "execution_count": 5,
   "metadata": {},
   "outputs": [],
   "source": [
    "rrm_bottom_left = ECEF2geodetic(\n",
    "    ENU2ECEF(\n",
    "        rrm_top_left,\n",
    "        AER2ENU(DDM2RRM(np.array([[180], [0], [m_dist]], dtype=np.float64))),\n",
    "        WGS84.a,\n",
    "        WGS84.b,\n",
    "    ),\n",
    "    WGS84.a,\n",
    "    WGS84.b,\n",
    ")"
   ]
  },
  {
   "cell_type": "code",
   "execution_count": 6,
   "metadata": {},
   "outputs": [],
   "source": [
    "rrm_bottom_right = ECEF2geodetic(\n",
    "    ENU2ECEF(\n",
    "        rrm_bottom_left,\n",
    "        AER2ENU(DDM2RRM(np.array([[90], [0], [m_dist]], dtype=np.float64))),\n",
    "        WGS84.a,\n",
    "        WGS84.b,\n",
    "    ),\n",
    "    WGS84.a,\n",
    "    WGS84.b,\n",
    ")"
   ]
  },
  {
   "cell_type": "markdown",
   "metadata": {},
   "source": [
    "## Visualise"
   ]
  },
  {
   "cell_type": "markdown",
   "metadata": {},
   "source": [
    "Shapely"
   ]
  },
  {
   "cell_type": "code",
   "execution_count": 7,
   "metadata": {},
   "outputs": [
    {
     "data": {
      "image/svg+xml": [
       "<svg xmlns=\"http://www.w3.org/2000/svg\" xmlns:xlink=\"http://www.w3.org/1999/xlink\" width=\"100.0\" height=\"100.0\" viewBox=\"0.5759208692587126 0.5925872171710005 0.0010201652842369846 0.0008625124064878253\" preserveAspectRatio=\"xMinYMin meet\"><g transform=\"matrix(1,0,0,-1,0,1.1860369467484888)\"><path fill-rule=\"evenodd\" fill=\"#66cc99\" stroke=\"#555555\" stroke-width=\"2.040330568473969e-05\" opacity=\"0.6\" d=\"M 0.5759586531581288,0.5934119456780721 L 0.5769032506435333,0.5934117378967483 L 0.5769027519591668,0.5926250010704167 L 0.5759586531581288,0.5926252085012143 L 0.5759586531581288,0.5934119456780721 z\" /></g></svg>"
      ],
      "text/plain": [
       "<POLYGON ((0.576 0.593, 0.577 0.593, 0.577 0.593, 0.576 0.593, 0.576 0.593))>"
      ]
     },
     "execution_count": 7,
     "metadata": {},
     "output_type": "execute_result"
    }
   ],
   "source": [
    "shapely.Polygon(\n",
    "    [\n",
    "        p[[1, 0]]\n",
    "        for p in [rrm_top_left, rrm_top_right, rrm_bottom_right, rrm_bottom_left]\n",
    "    ]\n",
    ")"
   ]
  },
  {
   "cell_type": "markdown",
   "metadata": {},
   "source": [
    "CZML"
   ]
  },
  {
   "cell_type": "code",
   "execution_count": 8,
   "metadata": {},
   "outputs": [],
   "source": [
    "rrm_points = (\n",
    "    np.hstack([rrm_top_left, rrm_top_right, rrm_bottom_right, rrm_bottom_left])\n",
    "    .T[:, [1, 0, 2]]\n",
    "    .ravel()\n",
    "    .tolist()\n",
    ")\n",
    "packets = [\n",
    "    Packet(id=\"document\", name=\"example2\", version=CZML_VERSION),\n",
    "    Packet(\n",
    "        polygon=Polygon(\n",
    "            positions=PositionList(cartographicRadians=rrm_points),\n",
    "            material=Material(\n",
    "                solidColor=SolidColorMaterial(color=Color(rgba=[255, 253, 55, 255]))\n",
    "            ),\n",
    "            outline=True,\n",
    "        ),\n",
    "    ),\n",
    "]"
   ]
  },
  {
   "cell_type": "code",
   "execution_count": 9,
   "metadata": {},
   "outputs": [],
   "source": [
    "with open(\"exmaple2.czml\", \"w\") as f:\n",
    "    f.write(Document(packets=packets).dumps())"
   ]
  }
 ],
 "metadata": {
  "kernelspec": {
   "display_name": "venv",
   "language": "python",
   "name": "python3"
  },
  "language_info": {
   "codemirror_mode": {
    "name": "ipython",
    "version": 3
   },
   "file_extension": ".py",
   "mimetype": "text/x-python",
   "name": "python",
   "nbconvert_exporter": "python",
   "pygments_lexer": "ipython3",
   "version": "3.11.8"
  }
 },
 "nbformat": 4,
 "nbformat_minor": 2
}
